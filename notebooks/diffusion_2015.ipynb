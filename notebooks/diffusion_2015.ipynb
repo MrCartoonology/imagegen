{
 "cells": [
  {
   "cell_type": "markdown",
   "id": "61086f51-5498-4302-bcfb-7ca013ca6388",
   "metadata": {},
   "source": [
    "# MNIST Diffusion\n",
    "\n",
    "Learn diffusion per the paper Jascha Sohl-Dickstein, Eric Weiss, Niru Maheswaranathan, and Surya Ganguli. Deep unsupervised\n",
    "learning using nonequilibrium thermodynamics. In International Conference on Machine Learning, pages\n",
    "2256–2265, 2015."
   ]
  },
  {
   "cell_type": "code",
   "execution_count": 43,
   "id": "d24431a8-2a36-4eb7-b5e4-025e4fda5b14",
   "metadata": {},
   "outputs": [
    {
     "name": "stdout",
     "output_type": "stream",
     "text": [
      "Using matplotlib backend: module://matplotlib_inline.backend_inline\n"
     ]
    }
   ],
   "source": [
    "%matplotlib\n",
    "\n",
    "import time\n",
    "import numpy as np\n",
    "import torch\n",
    "import torch.nn as nn\n",
    "import torch.nn.functional as F\n",
    "from torchvision import datasets, transforms\n",
    "from torch.utils.data import DataLoader\n",
    "\n",
    "import matplotlib.pyplot as plt"
   ]
  },
  {
   "cell_type": "markdown",
   "id": "6f378b16-891e-4f2f-ade4-7edc257d38fa",
   "metadata": {},
   "source": [
    "# 1. Load MNIST dataset"
   ]
  },
  {
   "cell_type": "code",
   "execution_count": 50,
   "id": "738c1fd9-7898-4ef6-b44d-18aafd5a7fb2",
   "metadata": {},
   "outputs": [],
   "source": [
    "transform = transforms.Compose([  # original MNIST are 28 x 28 images, greyscale - ints 0 to 255\n",
    "    transforms.ToTensor(), # rescales to [0.0, 1.0]\n",
    "    transforms.Lambda(lambda x: x * 2 - 1)  # Rescale to [-1.0, 1.0]\n",
    "])\n",
    "\n",
    "\n",
    "batch_size = 128\n",
    "\n",
    "\n",
    "class InMemoryMNIST(torch.utils.data.Dataset):\n",
    "    def __init__(self, dataset):\n",
    "        self.data = []\n",
    "        for i in range(len(dataset)):\n",
    "            x, y = dataset[i]\n",
    "            self.data.append((x.clone(), y))  # clone to detach from lazy loading\n",
    "\n",
    "    def __len__(self):\n",
    "        return len(self.data)\n",
    "\n",
    "    def __getitem__(self, idx):\n",
    "        return self.data[idx]\n",
    "\n",
    "        \n",
    "train_dataset = InMemoryMNIST(datasets.MNIST(root='./data', train=True, download=True, transform=transform))\n",
    "train_loader = DataLoader(train_dataset, batch_size=batch_size, shuffle=True)\n",
    "val_dataset = InMemoryMNIST(datasets.MNIST(root='./data', train=False, download=True, transform=transform))\n",
    "val_loader = DataLoader(val_dataset, batch_size=batch_size, shuffle=True)\n"
   ]
  },
  {
   "cell_type": "markdown",
   "id": "b5616426-d741-46fa-8fdd-5a4822cfebfb",
   "metadata": {},
   "source": [
    "# 2. Define the network used for reverse diffusion: MLP as in Appendix D.1.2"
   ]
  },
  {
   "cell_type": "code",
   "execution_count": 51,
   "id": "5b720d06-2909-4f79-9aca-cc4b1bacd127",
   "metadata": {},
   "outputs": [],
   "source": [
    "T = 1000\n",
    "\n",
    "class DiffusionModel(nn.Module):\n",
    "    def __init__(self, input_dim=28*28, hidden_dim=100, T=T):\n",
    "        super().__init__()\n",
    "        self.T = T\n",
    "        self.net = nn.Sequential(\n",
    "            nn.Linear(input_dim + 1, hidden_dim),  # +1 for time embedding\n",
    "            nn.Softplus(),\n",
    "            nn.Linear(hidden_dim, hidden_dim),\n",
    "            nn.Softplus(),\n",
    "            nn.Linear(hidden_dim, input_dim)  # Output mean for the reverse process\n",
    "        )\n",
    "\n",
    "    def forward(self, x_t, t):\n",
    "        t_embed = t.view(-1, 1).float() / self.T  # Normalize time step\n",
    "        x_input = torch.cat([x_t, t_embed], dim=1)\n",
    "        return self.net(x_input)"
   ]
  },
  {
   "cell_type": "markdown",
   "id": "aec1374c-55e5-497b-9b4c-adcb84440212",
   "metadata": {},
   "source": [
    "# 3 Forward Diffusion Kernel (Gaussian Noise with Schedule Beta_t)"
   ]
  },
  {
   "cell_type": "code",
   "execution_count": 52,
   "id": "5754c7cd-d2ce-4bf4-85f1-ad28717d9b14",
   "metadata": {},
   "outputs": [],
   "source": [
    "def q_sample(x_0, t, betas):\n",
    "    noise = torch.randn_like(x_0)\n",
    "    alpha_cumprod = torch.cumprod(1 - betas, dim=0)\n",
    "    sqrt_alpha_cumprod = torch.sqrt(alpha_cumprod[t]).view(-1, 1)\n",
    "    sqrt_one_minus_alpha = torch.sqrt(1 - alpha_cumprod[t]).view(-1, 1)\n",
    "    return sqrt_alpha_cumprod * x_0 + sqrt_one_minus_alpha * noise"
   ]
  },
  {
   "cell_type": "markdown",
   "id": "1e8c11fa-10ef-46f6-9021-a65d871649fb",
   "metadata": {},
   "source": [
    "# 4 Training Loop"
   ]
  },
  {
   "cell_type": "code",
   "execution_count": 56,
   "id": "f0e99938-10dd-4699-885b-41d37b6671cd",
   "metadata": {},
   "outputs": [],
   "source": [
    "device = 'cpu'\n",
    "model = DiffusionModel().to(device)\n",
    "optimizer = torch.optim.Adam(model.parameters(), lr=1e-3)\n",
    "betas = torch.linspace(1e-4, 0.02, T).to(device)\n"
   ]
  },
  {
   "cell_type": "code",
   "execution_count": 57,
   "id": "0740b7dd-ef53-409c-addc-875fd79b3e8d",
   "metadata": {},
   "outputs": [],
   "source": [
    "def train_one_epoch():\n",
    "    model.train()\n",
    "    total_loss = 0\n",
    "    for x, _ in train_loader:\n",
    "        x = x.view(x.size(0), -1).to(device)\n",
    "        t = torch.randint(1, T, (x.size(0),), device=x.device)\n",
    "        x_t = q_sample(x, t, betas)\n",
    "        x_pred = model(x_t, t)\n",
    "        loss = F.mse_loss(x_pred, x)\n",
    "        optimizer.zero_grad()\n",
    "        loss.backward()\n",
    "        optimizer.step()\n",
    "        total_loss += loss.item()\n",
    "    return total_loss / len(train_loader)\n"
   ]
  },
  {
   "cell_type": "code",
   "execution_count": 59,
   "id": "0fda1e2c-f1d0-415d-be1b-dc9d21582084",
   "metadata": {},
   "outputs": [
    {
     "name": "stdout",
     "output_type": "stream",
     "text": [
      "Epoch 0: Loss = 0.1766\n",
      "Epoch 1: Loss = 0.1763\n",
      "Epoch 2: Loss = 0.1758\n",
      "Epoch 3: Loss = 0.1749\n",
      "Epoch 4: Loss = 0.1747\n",
      "Epoch 5: Loss = 0.1746\n",
      "Epoch 6: Loss = 0.1742\n",
      "Epoch 7: Loss = 0.1740\n",
      "Epoch 8: Loss = 0.1738\n",
      "Epoch 9: Loss = 0.1730\n",
      "Epoch 10: Loss = 0.1736\n",
      "Epoch 11: Loss = 0.1734\n",
      "Epoch 12: Loss = 0.1725\n",
      "Epoch 13: Loss = 0.1734\n",
      "Epoch 14: Loss = 0.1725\n",
      "Epoch 15: Loss = 0.1727\n",
      "Epoch 16: Loss = 0.1723\n",
      "Epoch 17: Loss = 0.1719\n",
      "Epoch 18: Loss = 0.1719\n",
      "Epoch 19: Loss = 0.1716\n",
      "Epoch 20: Loss = 0.1718\n",
      "Epoch 21: Loss = 0.1714\n",
      "Epoch 22: Loss = 0.1717\n",
      "Epoch 23: Loss = 0.1717\n",
      "Epoch 24: Loss = 0.1708\n",
      "Epoch 25: Loss = 0.1711\n",
      "Epoch 26: Loss = 0.1711\n",
      "Epoch 27: Loss = 0.1714\n",
      "Epoch 28: Loss = 0.1712\n",
      "Epoch 29: Loss = 0.1713\n",
      "Epoch 30: Loss = 0.1709\n",
      "Epoch 31: Loss = 0.1707\n",
      "Epoch 32: Loss = 0.1705\n",
      "Epoch 33: Loss = 0.1706\n",
      "Epoch 34: Loss = 0.1708\n",
      "Epoch 35: Loss = 0.1712\n",
      "Epoch 36: Loss = 0.1701\n",
      "Epoch 37: Loss = 0.1708\n",
      "Epoch 38: Loss = 0.1700\n",
      "Epoch 39: Loss = 0.1705\n",
      "Epoch 40: Loss = 0.1697\n",
      "Epoch 41: Loss = 0.1704\n",
      "Epoch 42: Loss = 0.1699\n",
      "Epoch 43: Loss = 0.1702\n",
      "Epoch 44: Loss = 0.1709\n",
      "Epoch 45: Loss = 0.1697\n",
      "Epoch 46: Loss = 0.1700\n",
      "Epoch 47: Loss = 0.1700\n",
      "Epoch 48: Loss = 0.1699\n",
      "Epoch 49: Loss = 0.1704\n",
      "Time:  1.1146002014478047\n"
     ]
    }
   ],
   "source": [
    "t0 = time.time()\n",
    "for epoch in range(50):\n",
    "    loss = train_one_epoch()\n",
    "    print(f\"Epoch {epoch}: Loss = {loss:.4f}\")\n",
    "tm = time.time() - t0\n",
    "print(\"Time: \", tm / 60.0)"
   ]
  },
  {
   "cell_type": "code",
   "execution_count": 65,
   "id": "bd209ca2-5357-4a98-b732-c82fe71b99c6",
   "metadata": {},
   "outputs": [
    {
     "data": {
      "text/plain": [
       "<matplotlib.image.AxesImage at 0x14b625040>"
      ]
     },
     "execution_count": 65,
     "metadata": {},
     "output_type": "execute_result"
    },
    {
     "data": {
      "image/png": "[encoded data removed]",
      "text/plain": [
       "<Figure size 640x480 with 1 Axes>"
      ]
     },
     "metadata": {},
     "output_type": "display_data"
    }
   ],
   "source": [
    "def make_image_one_shot(model):\n",
    "    model.eval()\n",
    "    with torch.no_grad():\n",
    "        x = torch.randn(1, 28 * 28).to(device)\n",
    "        t=torch.tensor(1000.0).to(device)\n",
    "        v = model(x, t)\n",
    "        v.reshape(1, 28, 28)\n",
    "        return np.reshape(v.to('cpu').numpy(), (28, 28))\n",
    "\n",
    "plt.imshow(make_image_one_shot(model))\n",
    "    "
   ]
  },
  {
   "cell_type": "code",
   "execution_count": 70,
   "id": "90ca60c1-ea44-48ed-8a22-a861cb3bdfb9",
   "metadata": {},
   "outputs": [
    {
     "data": {
      "text/plain": [
       "<matplotlib.image.AxesImage at 0x3543e3590>"
      ]
     },
     "execution_count": 70,
     "metadata": {},
     "output_type": "execute_result"
    },
    {
     "data": {
      "image/png": "[encoded data removed]",
      "text/plain": [
       "<Figure size 640x480 with 1 Axes>"
      ]
     },
     "metadata": {},
     "output_type": "display_data"
    }
   ],
   "source": [
    "def make_image_multi_step(model):\n",
    "    model.eval()\n",
    "    with torch.no_grad():\n",
    "        x_T = torch.randn(1, 784).to(device)  # noise\n",
    "        x_t = x_T\n",
    "    \n",
    "        for t in reversed(range(1, T)):\n",
    "            # Predict x0 from noisy xt and timestep\n",
    "            x_pred = model(x_t, torch.tensor(t))\n",
    "        \n",
    "            # Compute mean of the reverse process (simplified)\n",
    "            beta_t = betas[t]\n",
    "            alpha_t = 1 - beta_t\n",
    "            alpha_bar_t = torch.prod(1 - betas[:t+1])\n",
    "        \n",
    "            coef1 = 1 / torch.sqrt(alpha_t)\n",
    "            coef2 = (1 - alpha_t) / torch.sqrt(1 - alpha_bar_t)\n",
    "        \n",
    "            # Reverse update (this is a simplification)\n",
    "            x_t = coef1 * (x_t - coef2 * (x_t - x_pred))  # or just x_pred in simplified models\n",
    "    \n",
    "    return np.reshape(x_t.to('cpu').numpy(), (28, 28))\n",
    "\n",
    "plt.imshow(make_image_multi_step(model))\n"
   ]
  },
  {
   "cell_type": "code",
   "execution_count": null,
   "id": "c78894c1-f9f8-4077-af7e-cd9b0ce1ff31",
   "metadata": {},
   "outputs": [],
   "source": []
  }
 ],
 "metadata": {
  "kernelspec": {
   "display_name": "Python 3 (ipykernel)",
   "language": "python",
   "name": "python3"
  },
  "language_info": {
   "codemirror_mode": {
    "name": "ipython",
    "version": 3
   },
   "file_extension": ".py",
   "mimetype": "text/x-python",
   "name": "python",
   "nbconvert_exporter": "python",
   "pygments_lexer": "ipython3",
   "version": "3.12.8"
  }
 },
 "nbformat": 4,
 "nbformat_minor": 5
}
